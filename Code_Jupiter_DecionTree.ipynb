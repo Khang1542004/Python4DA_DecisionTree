{
 "cells": [
  {
   "cell_type": "markdown",
   "id": "7f04e5fb",
   "metadata": {},
   "source": [
    "# STUDENT DATA "
   ]
  },
  {
   "cell_type": "markdown",
   "id": "89fdbbd2",
   "metadata": {},
   "source": [
    "## 1. Module Import"
   ]
  },
  {
   "cell_type": "code",
   "execution_count": 2,
   "id": "672d9515",
   "metadata": {},
   "outputs": [],
   "source": [
    "import pandas as pd\n",
    "\n",
    "from sklearn.model_selection import train_test_split, cross_val_score\n",
    "from sklearn.tree import DecisionTreeClassifier, plot_tree\n",
    "from sklearn.preprocessing import LabelEncoder\n",
    "from sklearn.metrics import accuracy_score, classification_report, confusion_matrix\n",
    "from sklearn import tree\n",
    "import optuna\n",
    "import matplotlib.pyplot as plt\n",
    "import seaborn as sns\n",
    "import math"
   ]
  },
  {
   "cell_type": "markdown",
   "id": "17507fb1",
   "metadata": {},
   "source": [
    "## 2. Data Import"
   ]
  },
  {
   "cell_type": "code",
   "execution_count": 3,
   "id": "03fcb23f",
   "metadata": {},
   "outputs": [],
   "source": [
    "df = pd.read_csv(r\"student_data.csv\")"
   ]
  },
  {
   "cell_type": "code",
   "execution_count": 4,
   "id": "b812ce88",
   "metadata": {},
   "outputs": [
    {
     "data": {
      "application/vnd.microsoft.datawrangler.viewer.v0+json": {
       "columns": [
        {
         "name": "index",
         "rawType": "int64",
         "type": "integer"
        },
        {
         "name": "Age",
         "rawType": "int64",
         "type": "integer"
        },
        {
         "name": "Gender",
         "rawType": "object",
         "type": "string"
        },
        {
         "name": "Major",
         "rawType": "object",
         "type": "string"
        },
        {
         "name": "GPA",
         "rawType": "float64",
         "type": "float"
        },
        {
         "name": "Attendance",
         "rawType": "int64",
         "type": "integer"
        },
        {
         "name": "Part_Time_Job",
         "rawType": "object",
         "type": "string"
        },
        {
         "name": "Study_Hours",
         "rawType": "int64",
         "type": "integer"
        },
        {
         "name": "Pass",
         "rawType": "object",
         "type": "string"
        }
       ],
       "conversionMethod": "pd.DataFrame",
       "ref": "a8df860d-4c23-4ffe-a670-056374e16a98",
       "rows": [
        [
         "0",
         "25",
         "Male",
         "IT",
         "2.38",
         "89",
         "Yes",
         "39",
         "No"
        ],
        [
         "1",
         "20",
         "Male",
         "IT",
         "2.08",
         "89",
         "Yes",
         "26",
         "Yes"
        ],
        [
         "2",
         "22",
         "Male",
         "IT",
         "2.34",
         "100",
         "Yes",
         "28",
         "Yes"
        ],
        [
         "3",
         "23",
         "Female",
         "Education",
         "2.56",
         "88",
         "Yes",
         "21",
         "Yes"
        ],
        [
         "4",
         "18",
         "Female",
         "Engineering",
         "2.35",
         "100",
         "No",
         "14",
         "No"
        ],
        [
         "5",
         "22",
         "Male",
         "IT",
         "2.18",
         "55",
         "Yes",
         "34",
         "No"
        ],
        [
         "6",
         "23",
         "Male",
         "Engineering",
         "2.24",
         "55",
         "Yes",
         "27",
         "Yes"
        ],
        [
         "7",
         "21",
         "Male",
         "Arts",
         "2.92",
         "52",
         "No",
         "36",
         "No"
        ],
        [
         "8",
         "22",
         "Female",
         "Business",
         "2.41",
         "56",
         "No",
         "21",
         "Yes"
        ],
        [
         "9",
         "24",
         "Male",
         "Arts",
         "2.73",
         "100",
         "No",
         "21",
         "Yes"
        ],
        [
         "10",
         "18",
         "Male",
         "Arts",
         "3.01",
         "57",
         "No",
         "18",
         "No"
        ],
        [
         "11",
         "23",
         "Female",
         "Education",
         "3.38",
         "91",
         "Yes",
         "13",
         "Yes"
        ],
        [
         "12",
         "23",
         "Female",
         "Business",
         "2.08",
         "64",
         "Yes",
         "6",
         "No"
        ],
        [
         "13",
         "23",
         "Male",
         "Arts",
         "3.6",
         "96",
         "No",
         "29",
         "Yes"
        ],
        [
         "14",
         "21",
         "Female",
         "Arts",
         "3.26",
         "78",
         "Yes",
         "13",
         "No"
        ],
        [
         "15",
         "22",
         "Female",
         "Business",
         "2.16",
         "82",
         "Yes",
         "26",
         "No"
        ],
        [
         "16",
         "21",
         "Male",
         "Business",
         "3.75",
         "79",
         "Yes",
         "8",
         "No"
        ],
        [
         "17",
         "25",
         "Female",
         "Arts",
         "3.84",
         "88",
         "No",
         "30",
         "Yes"
        ],
        [
         "18",
         "19",
         "Male",
         "Business",
         "2.12",
         "76",
         "Yes",
         "33",
         "Yes"
        ],
        [
         "19",
         "19",
         "Female",
         "Arts",
         "2.55",
         "85",
         "No",
         "38",
         "No"
        ],
        [
         "20",
         "25",
         "Male",
         "Arts",
         "3.61",
         "78",
         "Yes",
         "27",
         "No"
        ],
        [
         "21",
         "22",
         "Male",
         "Education",
         "3.5",
         "87",
         "Yes",
         "15",
         "Yes"
        ],
        [
         "22",
         "24",
         "Male",
         "IT",
         "2.37",
         "82",
         "Yes",
         "10",
         "Yes"
        ],
        [
         "23",
         "21",
         "Female",
         "Arts",
         "2.42",
         "86",
         "No",
         "22",
         "Yes"
        ],
        [
         "24",
         "18",
         "Male",
         "Engineering",
         "2.74",
         "76",
         "Yes",
         "25",
         "No"
        ],
        [
         "25",
         "23",
         "Female",
         "IT",
         "2.97",
         "82",
         "No",
         "40",
         "Yes"
        ],
        [
         "26",
         "23",
         "Male",
         "IT",
         "3.24",
         "53",
         "No",
         "38",
         "Yes"
        ],
        [
         "27",
         "22",
         "Male",
         "IT",
         "2.74",
         "71",
         "No",
         "21",
         "No"
        ],
        [
         "28",
         "24",
         "Female",
         "Education",
         "2.93",
         "51",
         "Yes",
         "29",
         "Yes"
        ],
        [
         "29",
         "19",
         "Male",
         "Arts",
         "3.49",
         "59",
         "Yes",
         "16",
         "Yes"
        ],
        [
         "30",
         "19",
         "Male",
         "Education",
         "2.07",
         "54",
         "Yes",
         "27",
         "Yes"
        ],
        [
         "31",
         "23",
         "Female",
         "Arts",
         "2.5",
         "59",
         "Yes",
         "26",
         "No"
        ],
        [
         "32",
         "22",
         "Male",
         "Education",
         "3.43",
         "82",
         "No",
         "25",
         "No"
        ],
        [
         "33",
         "21",
         "Male",
         "Education",
         "3.79",
         "87",
         "No",
         "31",
         "No"
        ],
        [
         "34",
         "19",
         "Male",
         "Engineering",
         "3.02",
         "62",
         "No",
         "35",
         "No"
        ],
        [
         "35",
         "21",
         "Male",
         "Education",
         "3.06",
         "80",
         "Yes",
         "10",
         "No"
        ],
        [
         "36",
         "24",
         "Female",
         "Business",
         "2.21",
         "96",
         "No",
         "31",
         "No"
        ],
        [
         "37",
         "19",
         "Female",
         "Engineering",
         "2.89",
         "85",
         "Yes",
         "38",
         "No"
        ],
        [
         "38",
         "19",
         "Male",
         "Education",
         "3.07",
         "94",
         "No",
         "16",
         "Yes"
        ],
        [
         "39",
         "20",
         "Female",
         "IT",
         "2.48",
         "73",
         "Yes",
         "11",
         "Yes"
        ],
        [
         "40",
         "19",
         "Male",
         "Business",
         "2.54",
         "64",
         "Yes",
         "14",
         "No"
        ],
        [
         "41",
         "25",
         "Female",
         "Business",
         "2.75",
         "78",
         "No",
         "21",
         "Yes"
        ],
        [
         "42",
         "18",
         "Male",
         "Business",
         "2.04",
         "57",
         "No",
         "30",
         "Yes"
        ],
        [
         "43",
         "25",
         "Male",
         "Engineering",
         "2.64",
         "54",
         "No",
         "25",
         "No"
        ],
        [
         "44",
         "22",
         "Male",
         "Education",
         "2.42",
         "78",
         "No",
         "32",
         "Yes"
        ],
        [
         "45",
         "22",
         "Male",
         "Education",
         "2.65",
         "96",
         "Yes",
         "6",
         "Yes"
        ],
        [
         "46",
         "21",
         "Male",
         "IT",
         "2.24",
         "53",
         "No",
         "5",
         "Yes"
        ],
        [
         "47",
         "25",
         "Male",
         "IT",
         "3.78",
         "61",
         "No",
         "40",
         "Yes"
        ],
        [
         "48",
         "25",
         "Female",
         "Business",
         "3.19",
         "94",
         "No",
         "30",
         "Yes"
        ],
        [
         "49",
         "25",
         "Male",
         "IT",
         "3.36",
         "51",
         "Yes",
         "33",
         "No"
        ]
       ],
       "shape": {
        "columns": 8,
        "rows": 150
       }
      },
      "text/html": [
       "<div>\n",
       "<style scoped>\n",
       "    .dataframe tbody tr th:only-of-type {\n",
       "        vertical-align: middle;\n",
       "    }\n",
       "\n",
       "    .dataframe tbody tr th {\n",
       "        vertical-align: top;\n",
       "    }\n",
       "\n",
       "    .dataframe thead th {\n",
       "        text-align: right;\n",
       "    }\n",
       "</style>\n",
       "<table border=\"1\" class=\"dataframe\">\n",
       "  <thead>\n",
       "    <tr style=\"text-align: right;\">\n",
       "      <th></th>\n",
       "      <th>Age</th>\n",
       "      <th>Gender</th>\n",
       "      <th>Major</th>\n",
       "      <th>GPA</th>\n",
       "      <th>Attendance</th>\n",
       "      <th>Part_Time_Job</th>\n",
       "      <th>Study_Hours</th>\n",
       "      <th>Pass</th>\n",
       "    </tr>\n",
       "  </thead>\n",
       "  <tbody>\n",
       "    <tr>\n",
       "      <th>0</th>\n",
       "      <td>25</td>\n",
       "      <td>Male</td>\n",
       "      <td>IT</td>\n",
       "      <td>2.38</td>\n",
       "      <td>89</td>\n",
       "      <td>Yes</td>\n",
       "      <td>39</td>\n",
       "      <td>No</td>\n",
       "    </tr>\n",
       "    <tr>\n",
       "      <th>1</th>\n",
       "      <td>20</td>\n",
       "      <td>Male</td>\n",
       "      <td>IT</td>\n",
       "      <td>2.08</td>\n",
       "      <td>89</td>\n",
       "      <td>Yes</td>\n",
       "      <td>26</td>\n",
       "      <td>Yes</td>\n",
       "    </tr>\n",
       "    <tr>\n",
       "      <th>2</th>\n",
       "      <td>22</td>\n",
       "      <td>Male</td>\n",
       "      <td>IT</td>\n",
       "      <td>2.34</td>\n",
       "      <td>100</td>\n",
       "      <td>Yes</td>\n",
       "      <td>28</td>\n",
       "      <td>Yes</td>\n",
       "    </tr>\n",
       "    <tr>\n",
       "      <th>3</th>\n",
       "      <td>23</td>\n",
       "      <td>Female</td>\n",
       "      <td>Education</td>\n",
       "      <td>2.56</td>\n",
       "      <td>88</td>\n",
       "      <td>Yes</td>\n",
       "      <td>21</td>\n",
       "      <td>Yes</td>\n",
       "    </tr>\n",
       "    <tr>\n",
       "      <th>4</th>\n",
       "      <td>18</td>\n",
       "      <td>Female</td>\n",
       "      <td>Engineering</td>\n",
       "      <td>2.35</td>\n",
       "      <td>100</td>\n",
       "      <td>No</td>\n",
       "      <td>14</td>\n",
       "      <td>No</td>\n",
       "    </tr>\n",
       "    <tr>\n",
       "      <th>...</th>\n",
       "      <td>...</td>\n",
       "      <td>...</td>\n",
       "      <td>...</td>\n",
       "      <td>...</td>\n",
       "      <td>...</td>\n",
       "      <td>...</td>\n",
       "      <td>...</td>\n",
       "      <td>...</td>\n",
       "    </tr>\n",
       "    <tr>\n",
       "      <th>145</th>\n",
       "      <td>21</td>\n",
       "      <td>Male</td>\n",
       "      <td>Engineering</td>\n",
       "      <td>3.01</td>\n",
       "      <td>92</td>\n",
       "      <td>No</td>\n",
       "      <td>34</td>\n",
       "      <td>Yes</td>\n",
       "    </tr>\n",
       "    <tr>\n",
       "      <th>146</th>\n",
       "      <td>25</td>\n",
       "      <td>Female</td>\n",
       "      <td>Engineering</td>\n",
       "      <td>2.46</td>\n",
       "      <td>71</td>\n",
       "      <td>No</td>\n",
       "      <td>17</td>\n",
       "      <td>Yes</td>\n",
       "    </tr>\n",
       "    <tr>\n",
       "      <th>147</th>\n",
       "      <td>18</td>\n",
       "      <td>Male</td>\n",
       "      <td>Education</td>\n",
       "      <td>3.80</td>\n",
       "      <td>75</td>\n",
       "      <td>Yes</td>\n",
       "      <td>17</td>\n",
       "      <td>Yes</td>\n",
       "    </tr>\n",
       "    <tr>\n",
       "      <th>148</th>\n",
       "      <td>23</td>\n",
       "      <td>Female</td>\n",
       "      <td>Business</td>\n",
       "      <td>2.77</td>\n",
       "      <td>77</td>\n",
       "      <td>No</td>\n",
       "      <td>22</td>\n",
       "      <td>No</td>\n",
       "    </tr>\n",
       "    <tr>\n",
       "      <th>149</th>\n",
       "      <td>22</td>\n",
       "      <td>Male</td>\n",
       "      <td>Education</td>\n",
       "      <td>3.09</td>\n",
       "      <td>99</td>\n",
       "      <td>Yes</td>\n",
       "      <td>36</td>\n",
       "      <td>No</td>\n",
       "    </tr>\n",
       "  </tbody>\n",
       "</table>\n",
       "<p>150 rows × 8 columns</p>\n",
       "</div>"
      ],
      "text/plain": [
       "     Age  Gender        Major   GPA  Attendance Part_Time_Job  Study_Hours  \\\n",
       "0     25    Male           IT  2.38          89           Yes           39   \n",
       "1     20    Male           IT  2.08          89           Yes           26   \n",
       "2     22    Male           IT  2.34         100           Yes           28   \n",
       "3     23  Female    Education  2.56          88           Yes           21   \n",
       "4     18  Female  Engineering  2.35         100            No           14   \n",
       "..   ...     ...          ...   ...         ...           ...          ...   \n",
       "145   21    Male  Engineering  3.01          92            No           34   \n",
       "146   25  Female  Engineering  2.46          71            No           17   \n",
       "147   18    Male    Education  3.80          75           Yes           17   \n",
       "148   23  Female     Business  2.77          77            No           22   \n",
       "149   22    Male    Education  3.09          99           Yes           36   \n",
       "\n",
       "    Pass  \n",
       "0     No  \n",
       "1    Yes  \n",
       "2    Yes  \n",
       "3    Yes  \n",
       "4     No  \n",
       "..   ...  \n",
       "145  Yes  \n",
       "146  Yes  \n",
       "147  Yes  \n",
       "148   No  \n",
       "149   No  \n",
       "\n",
       "[150 rows x 8 columns]"
      ]
     },
     "execution_count": 4,
     "metadata": {},
     "output_type": "execute_result"
    }
   ],
   "source": [
    "df"
   ]
  },
  {
   "cell_type": "markdown",
   "id": "87987461",
   "metadata": {},
   "source": [
    "## 3. Khám phá kích thước, thông tin chi tiết, số lượng giá trị thiếu và thống kê mô tả dữ liệu ban đầu"
   ]
  },
  {
   "cell_type": "markdown",
   "id": "4cd8b9f5",
   "metadata": {},
   "source": [
    "### Khám phá kích thước"
   ]
  },
  {
   "cell_type": "code",
   "execution_count": 5,
   "id": "b3bd47ed",
   "metadata": {},
   "outputs": [
    {
     "name": "stdout",
     "output_type": "stream",
     "text": [
      "Kích thước dữ liệu: (150, 8)\n"
     ]
    }
   ],
   "source": [
    "print(\"Kích thước dữ liệu:\", df.shape)"
   ]
  },
  {
   "cell_type": "markdown",
   "id": "d44cc45f",
   "metadata": {},
   "source": [
    "### Thông tin chi tiết"
   ]
  },
  {
   "cell_type": "code",
   "execution_count": 60,
   "id": "f877dcc2",
   "metadata": {},
   "outputs": [
    {
     "name": "stdout",
     "output_type": "stream",
     "text": [
      "\n",
      "Thông tin chi tiết:\n",
      "<class 'pandas.core.frame.DataFrame'>\n",
      "RangeIndex: 150 entries, 0 to 149\n",
      "Data columns (total 8 columns):\n",
      " #   Column         Non-Null Count  Dtype  \n",
      "---  ------         --------------  -----  \n",
      " 0   Age            150 non-null    int64  \n",
      " 1   Gender         150 non-null    object \n",
      " 2   Major          150 non-null    object \n",
      " 3   GPA            150 non-null    float64\n",
      " 4   Attendance     150 non-null    int64  \n",
      " 5   Part_Time_Job  150 non-null    object \n",
      " 6   Study_Hours    150 non-null    int64  \n",
      " 7   Pass           150 non-null    object \n",
      "dtypes: float64(1), int64(3), object(4)\n",
      "memory usage: 9.5+ KB\n",
      "None\n"
     ]
    }
   ],
   "source": [
    "print(\"\\nThông tin chi tiết:\")\n",
    "print(df.info())"
   ]
  },
  {
   "cell_type": "markdown",
   "id": "ec5585db",
   "metadata": {},
   "source": [
    "### Thống kê mô tả dữ liệu ban đầu"
   ]
  },
  {
   "cell_type": "code",
   "execution_count": 6,
   "id": "978a60e9",
   "metadata": {},
   "outputs": [
    {
     "name": "stdout",
     "output_type": "stream",
     "text": [
      "\n",
      "Thống kê mô tả:\n",
      "              Age         GPA  Attendance  Study_Hours\n",
      "count  150.000000  150.000000  150.000000   150.000000\n",
      "mean    21.313333    2.904600   76.480000    24.073333\n",
      "std      2.331968    0.551007   14.959776     9.749959\n",
      "min     18.000000    2.040000   50.000000     5.000000\n",
      "25%     19.000000    2.412500   62.000000    16.000000\n",
      "50%     21.000000    2.835000   77.000000    25.000000\n",
      "75%     23.000000    3.355000   89.000000    31.000000\n",
      "max     25.000000    3.980000  100.000000    40.000000\n"
     ]
    }
   ],
   "source": [
    "print(\"\\nThống kê mô tả:\")\n",
    "print(df.describe())"
   ]
  },
  {
   "cell_type": "markdown",
   "id": "3776ddc7",
   "metadata": {},
   "source": [
    "### Kiểm tra giá trị null"
   ]
  },
  {
   "cell_type": "code",
   "execution_count": 7,
   "id": "c43b3103",
   "metadata": {},
   "outputs": [
    {
     "name": "stdout",
     "output_type": "stream",
     "text": [
      "\n",
      "Giá trị thiếu:\n",
      "Age              0\n",
      "Gender           0\n",
      "Major            0\n",
      "GPA              0\n",
      "Attendance       0\n",
      "Part_Time_Job    0\n",
      "Study_Hours      0\n",
      "Pass             0\n",
      "dtype: int64\n"
     ]
    }
   ],
   "source": [
    "print(\"\\nGiá trị thiếu:\")\n",
    "print(df.isnull().sum())"
   ]
  },
  {
   "cell_type": "markdown",
   "id": "2551e79d",
   "metadata": {},
   "source": [
    "### Kiểm tra giá trị trùng lặp"
   ]
  },
  {
   "cell_type": "code",
   "execution_count": 8,
   "id": "a73262e9",
   "metadata": {},
   "outputs": [
    {
     "data": {
      "text/plain": [
       "np.int64(0)"
      ]
     },
     "execution_count": 8,
     "metadata": {},
     "output_type": "execute_result"
    }
   ],
   "source": [
    "df.duplicated().sum()"
   ]
  },
  {
   "cell_type": "markdown",
   "id": "59cc5ecd",
   "metadata": {},
   "source": [
    "### Xem phân phối từng cột bằng biểu đồ histogram"
   ]
  },
  {
   "cell_type": "code",
   "execution_count": 64,
   "id": "441f2d43",
   "metadata": {},
   "outputs": [
    {
     "data": {
      "image/png": "[encoded data removed]",
      "text/plain": [
       "<Figure size 1000x1500 with 4 Axes>"
      ]
     },
     "metadata": {},
     "output_type": "display_data"
    }
   ],
   "source": [
    "# Chọn các cột số, loại bỏ cột Pass (vì đây là cột mục tiêu phân loại)\n",
    "numerical_columns = df.select_dtypes(include=['float', 'int']).columns\n",
    "numerical_columns = [col for col in numerical_columns if col != 'Pass']  # Loại bỏ cột Pass\n",
    "num_plots = len(numerical_columns)\n",
    "\n",
    "# Setup số lượng hàng và cột\n",
    "num_rows = 3\n",
    "num_columns = math.ceil(num_plots / num_rows)\n",
    "\n",
    "# Tạo khung lớn với số lượng hàng và cột phù hợp\n",
    "fig, axes = plt.subplots(num_rows, num_columns, figsize=(num_columns * 5, num_rows * 5))\n",
    "\n",
    "# Lặp qua từng cột số và vẽ biểu đồ histogram\n",
    "for i, column in enumerate(numerical_columns):\n",
    "    row = i // num_columns\n",
    "    col = i % num_columns\n",
    "    \n",
    "    # Vẽ biểu đồ histogram\n",
    "    if num_rows > 1:\n",
    "        axes[row, col].hist(df[column], bins=30, color='skyblue', edgecolor='black')\n",
    "        axes[row, col].set_title(f'Phân phối của {column}')\n",
    "        axes[row, col].set_xlabel(column)\n",
    "        axes[row, col].set_ylabel('Tần suất')\n",
    "    else:\n",
    "        axes[col].hist(df[column], bins=30, color='skyblue', edgecolor='black')\n",
    "        axes[col].set_title(f'Phân phối của {column}')\n",
    "        axes[col].set_xlabel(column)\n",
    "        axes[col].set_ylabel('Tần suất')\n",
    "\n",
    "# Xóa các ô trống nếu có\n",
    "if num_rows > 1:\n",
    "    for j in range(i + 1, num_rows * num_columns):\n",
    "        fig.delaxes(axes[j // num_columns, j % num_columns])\n",
    "else:\n",
    "    for j in range(i + 1, num_columns):\n",
    "        fig.delaxes(axes[j])\n",
    "\n",
    "plt.tight_layout()\n",
    "plt.show()"
   ]
  },
  {
   "cell_type": "markdown",
   "id": "237eadb1",
   "metadata": {},
   "source": [
    "### Phân tổ dữ liệu sử dụng hàm qcut từ thư viện pandas. Chia dữ liệu dựa trên phân vị"
   ]
  },
  {
   "cell_type": "code",
   "execution_count": 9,
   "id": "230862bc",
   "metadata": {},
   "outputs": [],
   "source": [
    "# Phân tổ các cột số (trừ Age) thành 5 nhóm bằng pd.qcut\n",
    "df['GPA_LABEL'] = pd.qcut(df['GPA'], 5, labels=range(0, 5)).astype(int)\n",
    "df['ATTENDANCE_LABEL'] = pd.qcut(df['Attendance'], 5, labels=range(0, 5)).astype(int)\n",
    "df['STUDY_HOURS_LABEL'] = pd.qcut(df['Study_Hours'], 5, labels=range(0, 5)).astype(int)"
   ]
  },
  {
   "cell_type": "markdown",
   "id": "32203431",
   "metadata": {},
   "source": [
    "### Trích xuất các cột cần sử dụng trong mô hình cây quyết định từ dataset"
   ]
  },
  {
   "cell_type": "code",
   "execution_count": 10,
   "id": "44eef5f3",
   "metadata": {},
   "outputs": [],
   "source": [
    "feature_columns = df[[\n",
    "    'Age',               # Số\n",
    "    'Gender',            # Phân loại\n",
    "    'Major',             # Phân loại\n",
    "    'Part_Time_Job',     # Phân loại\n",
    "    'GPA_LABEL',         # Phân loại thay cho GPA\n",
    "    'ATTENDANCE_LABEL',  # Phân loại thay cho Attendance\n",
    "    'STUDY_HOURS_LABEL'  # Phân loại thay cho Study_Hours\n",
    "]]"
   ]
  },
  {
   "cell_type": "markdown",
   "id": "b57f6110",
   "metadata": {},
   "source": [
    "### Mã hóa các cột phân loại"
   ]
  },
  {
   "cell_type": "code",
   "execution_count": 15,
   "id": "a72fbce8",
   "metadata": {},
   "outputs": [],
   "source": [
    "# Mã hóa Gender và Part_Time_Job bằng replace\n",
    "df['Gender'] = df['Gender'].replace({'Male': 1, 'Female': 0})\n",
    "df['Part_Time_Job'] = df['Part_Time_Job'].replace({'Yes': 1, 'No': 0})\n",
    "\n",
    "# Mã hóa Major bằng cách gán thủ công 0, 1, 2, 3, 4\n",
    "df['Major'] = df['Major'].replace({\n",
    "    'IT': 0,\n",
    "    'Education': 1,\n",
    "    'Engineering': 2,\n",
    "    'Arts': 3,\n",
    "    'Business': 4\n",
    "})\n",
    "\n",
    "# Mã hóa cột mục tiêu Pass\n",
    "le = LabelEncoder()\n",
    "df['Pass'] = le.fit_transform(df['Pass'])  # Yes/No -> 1/0\n",
    "\n"
   ]
  },
  {
   "cell_type": "markdown",
   "id": "560d7d72",
   "metadata": {},
   "source": [
    "## 4. Chia dữ liệu thành tập huấn luyện và kiểm tra"
   ]
  },
  {
   "cell_type": "code",
   "execution_count": 13,
   "id": "66d8516d",
   "metadata": {},
   "outputs": [],
   "source": [
    "X = df.drop('Pass', axis=1)  # Đặc trưng\n",
    "y = df['Pass']  # Nhãn\n",
    "\n",
    "# Chia dữ liệu: 80% huấn luyện, 20% kiểm tra\n",
    "X_train, X_test, y_train, y_test = train_test_split(X, y, test_size=0.2, random_state=42)"
   ]
  },
  {
   "cell_type": "markdown",
   "id": "0a39b968",
   "metadata": {},
   "source": [
    "## 5. Tối ưu hóa tham số bằng Optuna"
   ]
  },
  {
   "cell_type": "code",
   "execution_count": 70,
   "id": "9138d4d1",
   "metadata": {},
   "outputs": [
    {
     "name": "stderr",
     "output_type": "stream",
     "text": [
      "[I 2025-05-02 01:12:50,925] A new study created in memory with name: no-name-f2d9b176-6214-4cd7-9103-4d13636b5a86\n",
      "C:\\Users\\ACER\\AppData\\Local\\Temp\\ipykernel_7812\\1611838839.py:7: FutureWarning: suggest_loguniform has been deprecated in v3.0.0. This feature will be removed in v6.0.0. See https://github.com/optuna/optuna/releases/tag/v3.0.0. Use suggest_float(..., log=True) instead.\n",
      "  min_weight_fraction_leaf = trial.suggest_loguniform('min_weight_fraction_leaf', 0.01, 0.5)\n",
      "[I 2025-05-02 01:12:50,953] Trial 0 finished with value: 0.575 and parameters: {'max_features': 7, 'max_depth': 9, 'min_samples_leaf': 2, 'min_samples_split': 2, 'min_weight_fraction_leaf': 0.014914686529546542}. Best is trial 0 with value: 0.575.\n",
      "C:\\Users\\ACER\\AppData\\Local\\Temp\\ipykernel_7812\\1611838839.py:7: FutureWarning: suggest_loguniform has been deprecated in v3.0.0. This feature will be removed in v6.0.0. See https://github.com/optuna/optuna/releases/tag/v3.0.0. Use suggest_float(..., log=True) instead.\n",
      "  min_weight_fraction_leaf = trial.suggest_loguniform('min_weight_fraction_leaf', 0.01, 0.5)\n",
      "[I 2025-05-02 01:12:50,971] Trial 1 finished with value: 0.625 and parameters: {'max_features': 5, 'max_depth': 5, 'min_samples_leaf': 10, 'min_samples_split': 7, 'min_weight_fraction_leaf': 0.024145363553254372}. Best is trial 1 with value: 0.625.\n",
      "C:\\Users\\ACER\\AppData\\Local\\Temp\\ipykernel_7812\\1611838839.py:7: FutureWarning: suggest_loguniform has been deprecated in v3.0.0. This feature will be removed in v6.0.0. See https://github.com/optuna/optuna/releases/tag/v3.0.0. Use suggest_float(..., log=True) instead.\n",
      "  min_weight_fraction_leaf = trial.suggest_loguniform('min_weight_fraction_leaf', 0.01, 0.5)\n",
      "[I 2025-05-02 01:12:50,990] Trial 2 finished with value: 0.5833333333333334 and parameters: {'max_features': 9, 'max_depth': 4, 'min_samples_leaf': 5, 'min_samples_split': 8, 'min_weight_fraction_leaf': 0.09178303269739915}. Best is trial 1 with value: 0.625.\n",
      "C:\\Users\\ACER\\AppData\\Local\\Temp\\ipykernel_7812\\1611838839.py:7: FutureWarning: suggest_loguniform has been deprecated in v3.0.0. This feature will be removed in v6.0.0. See https://github.com/optuna/optuna/releases/tag/v3.0.0. Use suggest_float(..., log=True) instead.\n",
      "  min_weight_fraction_leaf = trial.suggest_loguniform('min_weight_fraction_leaf', 0.01, 0.5)\n",
      "[I 2025-05-02 01:12:51,007] Trial 3 finished with value: 0.6166666666666666 and parameters: {'max_features': 17, 'max_depth': 5, 'min_samples_leaf': 3, 'min_samples_split': 10, 'min_weight_fraction_leaf': 0.18359737753921163}. Best is trial 1 with value: 0.625.\n",
      "C:\\Users\\ACER\\AppData\\Local\\Temp\\ipykernel_7812\\1611838839.py:7: FutureWarning: suggest_loguniform has been deprecated in v3.0.0. This feature will be removed in v6.0.0. See https://github.com/optuna/optuna/releases/tag/v3.0.0. Use suggest_float(..., log=True) instead.\n",
      "  min_weight_fraction_leaf = trial.suggest_loguniform('min_weight_fraction_leaf', 0.01, 0.5)\n",
      "[I 2025-05-02 01:12:51,025] Trial 4 finished with value: 0.625 and parameters: {'max_features': 12, 'max_depth': 7, 'min_samples_leaf': 10, 'min_samples_split': 8, 'min_weight_fraction_leaf': 0.10405910271488358}. Best is trial 1 with value: 0.625.\n",
      "C:\\Users\\ACER\\AppData\\Local\\Temp\\ipykernel_7812\\1611838839.py:7: FutureWarning: suggest_loguniform has been deprecated in v3.0.0. This feature will be removed in v6.0.0. See https://github.com/optuna/optuna/releases/tag/v3.0.0. Use suggest_float(..., log=True) instead.\n",
      "  min_weight_fraction_leaf = trial.suggest_loguniform('min_weight_fraction_leaf', 0.01, 0.5)\n",
      "[I 2025-05-02 01:12:51,045] Trial 5 finished with value: 0.625 and parameters: {'max_features': 16, 'max_depth': 8, 'min_samples_leaf': 10, 'min_samples_split': 2, 'min_weight_fraction_leaf': 0.01535899819534712}. Best is trial 1 with value: 0.625.\n",
      "C:\\Users\\ACER\\AppData\\Local\\Temp\\ipykernel_7812\\1611838839.py:7: FutureWarning: suggest_loguniform has been deprecated in v3.0.0. This feature will be removed in v6.0.0. See https://github.com/optuna/optuna/releases/tag/v3.0.0. Use suggest_float(..., log=True) instead.\n",
      "  min_weight_fraction_leaf = trial.suggest_loguniform('min_weight_fraction_leaf', 0.01, 0.5)\n",
      "[I 2025-05-02 01:12:51,064] Trial 6 finished with value: 0.6166666666666667 and parameters: {'max_features': 8, 'max_depth': 9, 'min_samples_leaf': 8, 'min_samples_split': 5, 'min_weight_fraction_leaf': 0.03836036556705053}. Best is trial 1 with value: 0.625.\n",
      "C:\\Users\\ACER\\AppData\\Local\\Temp\\ipykernel_7812\\1611838839.py:7: FutureWarning: suggest_loguniform has been deprecated in v3.0.0. This feature will be removed in v6.0.0. See https://github.com/optuna/optuna/releases/tag/v3.0.0. Use suggest_float(..., log=True) instead.\n",
      "  min_weight_fraction_leaf = trial.suggest_loguniform('min_weight_fraction_leaf', 0.01, 0.5)\n",
      "[I 2025-05-02 01:12:51,082] Trial 7 finished with value: 0.6083333333333334 and parameters: {'max_features': 18, 'max_depth': 6, 'min_samples_leaf': 4, 'min_samples_split': 6, 'min_weight_fraction_leaf': 0.11227157196508432}. Best is trial 1 with value: 0.625.\n",
      "C:\\Users\\ACER\\AppData\\Local\\Temp\\ipykernel_7812\\1611838839.py:7: FutureWarning: suggest_loguniform has been deprecated in v3.0.0. This feature will be removed in v6.0.0. See https://github.com/optuna/optuna/releases/tag/v3.0.0. Use suggest_float(..., log=True) instead.\n",
      "  min_weight_fraction_leaf = trial.suggest_loguniform('min_weight_fraction_leaf', 0.01, 0.5)\n",
      "[I 2025-05-02 01:12:51,101] Trial 8 finished with value: 0.5583333333333333 and parameters: {'max_features': 7, 'max_depth': 7, 'min_samples_leaf': 7, 'min_samples_split': 2, 'min_weight_fraction_leaf': 0.3379773922405841}. Best is trial 1 with value: 0.625.\n",
      "C:\\Users\\ACER\\AppData\\Local\\Temp\\ipykernel_7812\\1611838839.py:7: FutureWarning: suggest_loguniform has been deprecated in v3.0.0. This feature will be removed in v6.0.0. See https://github.com/optuna/optuna/releases/tag/v3.0.0. Use suggest_float(..., log=True) instead.\n",
      "  min_weight_fraction_leaf = trial.suggest_loguniform('min_weight_fraction_leaf', 0.01, 0.5)\n",
      "[I 2025-05-02 01:12:51,121] Trial 9 finished with value: 0.5750000000000001 and parameters: {'max_features': 7, 'max_depth': 4, 'min_samples_leaf': 5, 'min_samples_split': 6, 'min_weight_fraction_leaf': 0.015105127524999512}. Best is trial 1 with value: 0.625.\n",
      "C:\\Users\\ACER\\AppData\\Local\\Temp\\ipykernel_7812\\1611838839.py:7: FutureWarning: suggest_loguniform has been deprecated in v3.0.0. This feature will be removed in v6.0.0. See https://github.com/optuna/optuna/releases/tag/v3.0.0. Use suggest_float(..., log=True) instead.\n",
      "  min_weight_fraction_leaf = trial.suggest_loguniform('min_weight_fraction_leaf', 0.01, 0.5)\n",
      "[I 2025-05-02 01:12:51,160] Trial 10 finished with value: 0.6166666666666667 and parameters: {'max_features': 4, 'max_depth': 6, 'min_samples_leaf': 8, 'min_samples_split': 4, 'min_weight_fraction_leaf': 0.03936021228457541}. Best is trial 1 with value: 0.625.\n",
      "C:\\Users\\ACER\\AppData\\Local\\Temp\\ipykernel_7812\\1611838839.py:7: FutureWarning: suggest_loguniform has been deprecated in v3.0.0. This feature will be removed in v6.0.0. See https://github.com/optuna/optuna/releases/tag/v3.0.0. Use suggest_float(..., log=True) instead.\n",
      "  min_weight_fraction_leaf = trial.suggest_loguniform('min_weight_fraction_leaf', 0.01, 0.5)\n",
      "[I 2025-05-02 01:12:51,204] Trial 11 finished with value: 0.625 and parameters: {'max_features': 13, 'max_depth': 7, 'min_samples_leaf': 10, 'min_samples_split': 8, 'min_weight_fraction_leaf': 0.035729284743281284}. Best is trial 1 with value: 0.625.\n",
      "C:\\Users\\ACER\\AppData\\Local\\Temp\\ipykernel_7812\\1611838839.py:7: FutureWarning: suggest_loguniform has been deprecated in v3.0.0. This feature will be removed in v6.0.0. See https://github.com/optuna/optuna/releases/tag/v3.0.0. Use suggest_float(..., log=True) instead.\n",
      "  min_weight_fraction_leaf = trial.suggest_loguniform('min_weight_fraction_leaf', 0.01, 0.5)\n",
      "[I 2025-05-02 01:12:51,238] Trial 12 finished with value: 0.5833333333333334 and parameters: {'max_features': 12, 'max_depth': 10, 'min_samples_leaf': 9, 'min_samples_split': 8, 'min_weight_fraction_leaf': 0.062443407238361816}. Best is trial 1 with value: 0.625.\n",
      "C:\\Users\\ACER\\AppData\\Local\\Temp\\ipykernel_7812\\1611838839.py:7: FutureWarning: suggest_loguniform has been deprecated in v3.0.0. This feature will be removed in v6.0.0. See https://github.com/optuna/optuna/releases/tag/v3.0.0. Use suggest_float(..., log=True) instead.\n",
      "  min_weight_fraction_leaf = trial.suggest_loguniform('min_weight_fraction_leaf', 0.01, 0.5)\n",
      "[I 2025-05-02 01:12:51,273] Trial 13 finished with value: 0.5833333333333333 and parameters: {'max_features': 4, 'max_depth': 6, 'min_samples_leaf': 10, 'min_samples_split': 10, 'min_weight_fraction_leaf': 0.19032006601422652}. Best is trial 1 with value: 0.625.\n",
      "C:\\Users\\ACER\\AppData\\Local\\Temp\\ipykernel_7812\\1611838839.py:7: FutureWarning: suggest_loguniform has been deprecated in v3.0.0. This feature will be removed in v6.0.0. See https://github.com/optuna/optuna/releases/tag/v3.0.0. Use suggest_float(..., log=True) instead.\n",
      "  min_weight_fraction_leaf = trial.suggest_loguniform('min_weight_fraction_leaf', 0.01, 0.5)\n",
      "[I 2025-05-02 01:12:51,309] Trial 14 finished with value: 0.5916666666666666 and parameters: {'max_features': 12, 'max_depth': 5, 'min_samples_leaf': 7, 'min_samples_split': 7, 'min_weight_fraction_leaf': 0.026047179840170843}. Best is trial 1 with value: 0.625.\n",
      "C:\\Users\\ACER\\AppData\\Local\\Temp\\ipykernel_7812\\1611838839.py:7: FutureWarning: suggest_loguniform has been deprecated in v3.0.0. This feature will be removed in v6.0.0. See https://github.com/optuna/optuna/releases/tag/v3.0.0. Use suggest_float(..., log=True) instead.\n",
      "  min_weight_fraction_leaf = trial.suggest_loguniform('min_weight_fraction_leaf', 0.01, 0.5)\n",
      "[I 2025-05-02 01:12:51,342] Trial 15 finished with value: 0.45 and parameters: {'max_features': 20, 'max_depth': 7, 'min_samples_leaf': 9, 'min_samples_split': 9, 'min_weight_fraction_leaf': 0.4491532726873556}. Best is trial 1 with value: 0.625.\n",
      "C:\\Users\\ACER\\AppData\\Local\\Temp\\ipykernel_7812\\1611838839.py:7: FutureWarning: suggest_loguniform has been deprecated in v3.0.0. This feature will be removed in v6.0.0. See https://github.com/optuna/optuna/releases/tag/v3.0.0. Use suggest_float(..., log=True) instead.\n",
      "  min_weight_fraction_leaf = trial.suggest_loguniform('min_weight_fraction_leaf', 0.01, 0.5)\n",
      "[I 2025-05-02 01:12:51,376] Trial 16 finished with value: 0.6166666666666667 and parameters: {'max_features': 10, 'max_depth': 5, 'min_samples_leaf': 8, 'min_samples_split': 7, 'min_weight_fraction_leaf': 0.06786476020461528}. Best is trial 1 with value: 0.625.\n",
      "C:\\Users\\ACER\\AppData\\Local\\Temp\\ipykernel_7812\\1611838839.py:7: FutureWarning: suggest_loguniform has been deprecated in v3.0.0. This feature will be removed in v6.0.0. See https://github.com/optuna/optuna/releases/tag/v3.0.0. Use suggest_float(..., log=True) instead.\n",
      "  min_weight_fraction_leaf = trial.suggest_loguniform('min_weight_fraction_leaf', 0.01, 0.5)\n",
      "[I 2025-05-02 01:12:51,414] Trial 17 finished with value: 0.5833333333333334 and parameters: {'max_features': 14, 'max_depth': 8, 'min_samples_leaf': 9, 'min_samples_split': 5, 'min_weight_fraction_leaf': 0.01056586689210336}. Best is trial 1 with value: 0.625.\n",
      "C:\\Users\\ACER\\AppData\\Local\\Temp\\ipykernel_7812\\1611838839.py:7: FutureWarning: suggest_loguniform has been deprecated in v3.0.0. This feature will be removed in v6.0.0. See https://github.com/optuna/optuna/releases/tag/v3.0.0. Use suggest_float(..., log=True) instead.\n",
      "  min_weight_fraction_leaf = trial.suggest_loguniform('min_weight_fraction_leaf', 0.01, 0.5)\n",
      "[I 2025-05-02 01:12:51,468] Trial 18 finished with value: 0.6249999999999999 and parameters: {'max_features': 15, 'max_depth': 8, 'min_samples_leaf': 6, 'min_samples_split': 9, 'min_weight_fraction_leaf': 0.14641715552850804}. Best is trial 1 with value: 0.625.\n",
      "C:\\Users\\ACER\\AppData\\Local\\Temp\\ipykernel_7812\\1611838839.py:7: FutureWarning: suggest_loguniform has been deprecated in v3.0.0. This feature will be removed in v6.0.0. See https://github.com/optuna/optuna/releases/tag/v3.0.0. Use suggest_float(..., log=True) instead.\n",
      "  min_weight_fraction_leaf = trial.suggest_loguniform('min_weight_fraction_leaf', 0.01, 0.5)\n",
      "[I 2025-05-02 01:12:51,522] Trial 19 finished with value: 0.625 and parameters: {'max_features': 10, 'max_depth': 6, 'min_samples_leaf': 10, 'min_samples_split': 7, 'min_weight_fraction_leaf': 0.024232469092098172}. Best is trial 1 with value: 0.625.\n",
      "C:\\Users\\ACER\\AppData\\Local\\Temp\\ipykernel_7812\\1611838839.py:7: FutureWarning: suggest_loguniform has been deprecated in v3.0.0. This feature will be removed in v6.0.0. See https://github.com/optuna/optuna/releases/tag/v3.0.0. Use suggest_float(..., log=True) instead.\n",
      "  min_weight_fraction_leaf = trial.suggest_loguniform('min_weight_fraction_leaf', 0.01, 0.5)\n",
      "[I 2025-05-02 01:12:51,579] Trial 20 finished with value: 0.5833333333333333 and parameters: {'max_features': 5, 'max_depth': 4, 'min_samples_leaf': 7, 'min_samples_split': 4, 'min_weight_fraction_leaf': 0.050942855176029006}. Best is trial 1 with value: 0.625.\n",
      "C:\\Users\\ACER\\AppData\\Local\\Temp\\ipykernel_7812\\1611838839.py:7: FutureWarning: suggest_loguniform has been deprecated in v3.0.0. This feature will be removed in v6.0.0. See https://github.com/optuna/optuna/releases/tag/v3.0.0. Use suggest_float(..., log=True) instead.\n",
      "  min_weight_fraction_leaf = trial.suggest_loguniform('min_weight_fraction_leaf', 0.01, 0.5)\n",
      "[I 2025-05-02 01:12:51,630] Trial 21 finished with value: 0.625 and parameters: {'max_features': 16, 'max_depth': 8, 'min_samples_leaf': 10, 'min_samples_split': 3, 'min_weight_fraction_leaf': 0.018983903854016305}. Best is trial 1 with value: 0.625.\n",
      "C:\\Users\\ACER\\AppData\\Local\\Temp\\ipykernel_7812\\1611838839.py:7: FutureWarning: suggest_loguniform has been deprecated in v3.0.0. This feature will be removed in v6.0.0. See https://github.com/optuna/optuna/releases/tag/v3.0.0. Use suggest_float(..., log=True) instead.\n",
      "  min_weight_fraction_leaf = trial.suggest_loguniform('min_weight_fraction_leaf', 0.01, 0.5)\n",
      "[I 2025-05-02 01:12:51,684] Trial 22 finished with value: 0.5833333333333334 and parameters: {'max_features': 19, 'max_depth': 9, 'min_samples_leaf': 9, 'min_samples_split': 5, 'min_weight_fraction_leaf': 0.010499641276756748}. Best is trial 1 with value: 0.625.\n",
      "C:\\Users\\ACER\\AppData\\Local\\Temp\\ipykernel_7812\\1611838839.py:7: FutureWarning: suggest_loguniform has been deprecated in v3.0.0. This feature will be removed in v6.0.0. See https://github.com/optuna/optuna/releases/tag/v3.0.0. Use suggest_float(..., log=True) instead.\n",
      "  min_weight_fraction_leaf = trial.suggest_loguniform('min_weight_fraction_leaf', 0.01, 0.5)\n",
      "[I 2025-05-02 01:12:51,733] Trial 23 finished with value: 0.625 and parameters: {'max_features': 16, 'max_depth': 8, 'min_samples_leaf': 10, 'min_samples_split': 9, 'min_weight_fraction_leaf': 0.02590678300676929}. Best is trial 1 with value: 0.625.\n",
      "C:\\Users\\ACER\\AppData\\Local\\Temp\\ipykernel_7812\\1611838839.py:7: FutureWarning: suggest_loguniform has been deprecated in v3.0.0. This feature will be removed in v6.0.0. See https://github.com/optuna/optuna/releases/tag/v3.0.0. Use suggest_float(..., log=True) instead.\n",
      "  min_weight_fraction_leaf = trial.suggest_loguniform('min_weight_fraction_leaf', 0.01, 0.5)\n",
      "[I 2025-05-02 01:12:51,777] Trial 24 finished with value: 0.5833333333333334 and parameters: {'max_features': 11, 'max_depth': 10, 'min_samples_leaf': 9, 'min_samples_split': 7, 'min_weight_fraction_leaf': 0.08687922807579529}. Best is trial 1 with value: 0.625.\n",
      "C:\\Users\\ACER\\AppData\\Local\\Temp\\ipykernel_7812\\1611838839.py:7: FutureWarning: suggest_loguniform has been deprecated in v3.0.0. This feature will be removed in v6.0.0. See https://github.com/optuna/optuna/releases/tag/v3.0.0. Use suggest_float(..., log=True) instead.\n",
      "  min_weight_fraction_leaf = trial.suggest_loguniform('min_weight_fraction_leaf', 0.01, 0.5)\n",
      "[I 2025-05-02 01:12:51,825] Trial 25 finished with value: 0.6166666666666667 and parameters: {'max_features': 14, 'max_depth': 7, 'min_samples_leaf': 8, 'min_samples_split': 3, 'min_weight_fraction_leaf': 0.014821048556006243}. Best is trial 1 with value: 0.625.\n",
      "C:\\Users\\ACER\\AppData\\Local\\Temp\\ipykernel_7812\\1611838839.py:7: FutureWarning: suggest_loguniform has been deprecated in v3.0.0. This feature will be removed in v6.0.0. See https://github.com/optuna/optuna/releases/tag/v3.0.0. Use suggest_float(..., log=True) instead.\n",
      "  min_weight_fraction_leaf = trial.suggest_loguniform('min_weight_fraction_leaf', 0.01, 0.5)\n",
      "[I 2025-05-02 01:12:51,872] Trial 26 finished with value: 0.625 and parameters: {'max_features': 18, 'max_depth': 5, 'min_samples_leaf': 10, 'min_samples_split': 6, 'min_weight_fraction_leaf': 0.04969780923704802}. Best is trial 1 with value: 0.625.\n",
      "C:\\Users\\ACER\\AppData\\Local\\Temp\\ipykernel_7812\\1611838839.py:7: FutureWarning: suggest_loguniform has been deprecated in v3.0.0. This feature will be removed in v6.0.0. See https://github.com/optuna/optuna/releases/tag/v3.0.0. Use suggest_float(..., log=True) instead.\n",
      "  min_weight_fraction_leaf = trial.suggest_loguniform('min_weight_fraction_leaf', 0.01, 0.5)\n",
      "[I 2025-05-02 01:12:51,916] Trial 27 finished with value: 0.5833333333333334 and parameters: {'max_features': 6, 'max_depth': 9, 'min_samples_leaf': 9, 'min_samples_split': 8, 'min_weight_fraction_leaf': 0.020088987778582763}. Best is trial 1 with value: 0.625.\n",
      "C:\\Users\\ACER\\AppData\\Local\\Temp\\ipykernel_7812\\1611838839.py:7: FutureWarning: suggest_loguniform has been deprecated in v3.0.0. This feature will be removed in v6.0.0. See https://github.com/optuna/optuna/releases/tag/v3.0.0. Use suggest_float(..., log=True) instead.\n",
      "  min_weight_fraction_leaf = trial.suggest_loguniform('min_weight_fraction_leaf', 0.01, 0.5)\n",
      "[I 2025-05-02 01:12:51,963] Trial 28 finished with value: 0.6 and parameters: {'max_features': 14, 'max_depth': 8, 'min_samples_leaf': 6, 'min_samples_split': 6, 'min_weight_fraction_leaf': 0.24162985950642027}. Best is trial 1 with value: 0.625.\n",
      "C:\\Users\\ACER\\AppData\\Local\\Temp\\ipykernel_7812\\1611838839.py:7: FutureWarning: suggest_loguniform has been deprecated in v3.0.0. This feature will be removed in v6.0.0. See https://github.com/optuna/optuna/releases/tag/v3.0.0. Use suggest_float(..., log=True) instead.\n",
      "  min_weight_fraction_leaf = trial.suggest_loguniform('min_weight_fraction_leaf', 0.01, 0.5)\n",
      "[I 2025-05-02 01:12:52,005] Trial 29 finished with value: 0.6166666666666667 and parameters: {'max_features': 9, 'max_depth': 9, 'min_samples_leaf': 8, 'min_samples_split': 4, 'min_weight_fraction_leaf': 0.013869798825597121}. Best is trial 1 with value: 0.625.\n",
      "C:\\Users\\ACER\\AppData\\Local\\Temp\\ipykernel_7812\\1611838839.py:7: FutureWarning: suggest_loguniform has been deprecated in v3.0.0. This feature will be removed in v6.0.0. See https://github.com/optuna/optuna/releases/tag/v3.0.0. Use suggest_float(..., log=True) instead.\n",
      "  min_weight_fraction_leaf = trial.suggest_loguniform('min_weight_fraction_leaf', 0.01, 0.5)\n",
      "[I 2025-05-02 01:12:52,045] Trial 30 finished with value: 0.5916666666666667 and parameters: {'max_features': 20, 'max_depth': 6, 'min_samples_leaf': 2, 'min_samples_split': 2, 'min_weight_fraction_leaf': 0.1297873453275948}. Best is trial 1 with value: 0.625.\n",
      "C:\\Users\\ACER\\AppData\\Local\\Temp\\ipykernel_7812\\1611838839.py:7: FutureWarning: suggest_loguniform has been deprecated in v3.0.0. This feature will be removed in v6.0.0. See https://github.com/optuna/optuna/releases/tag/v3.0.0. Use suggest_float(..., log=True) instead.\n",
      "  min_weight_fraction_leaf = trial.suggest_loguniform('min_weight_fraction_leaf', 0.01, 0.5)\n",
      "[I 2025-05-02 01:12:52,093] Trial 31 finished with value: 0.625 and parameters: {'max_features': 13, 'max_depth': 7, 'min_samples_leaf': 10, 'min_samples_split': 8, 'min_weight_fraction_leaf': 0.032957979626661194}. Best is trial 1 with value: 0.625.\n",
      "C:\\Users\\ACER\\AppData\\Local\\Temp\\ipykernel_7812\\1611838839.py:7: FutureWarning: suggest_loguniform has been deprecated in v3.0.0. This feature will be removed in v6.0.0. See https://github.com/optuna/optuna/releases/tag/v3.0.0. Use suggest_float(..., log=True) instead.\n",
      "  min_weight_fraction_leaf = trial.suggest_loguniform('min_weight_fraction_leaf', 0.01, 0.5)\n",
      "[I 2025-05-02 01:12:52,150] Trial 32 finished with value: 0.625 and parameters: {'max_features': 16, 'max_depth': 7, 'min_samples_leaf': 10, 'min_samples_split': 9, 'min_weight_fraction_leaf': 0.03217777192711719}. Best is trial 1 with value: 0.625.\n",
      "C:\\Users\\ACER\\AppData\\Local\\Temp\\ipykernel_7812\\1611838839.py:7: FutureWarning: suggest_loguniform has been deprecated in v3.0.0. This feature will be removed in v6.0.0. See https://github.com/optuna/optuna/releases/tag/v3.0.0. Use suggest_float(..., log=True) instead.\n",
      "  min_weight_fraction_leaf = trial.suggest_loguniform('min_weight_fraction_leaf', 0.01, 0.5)\n",
      "[I 2025-05-02 01:12:52,202] Trial 33 finished with value: 0.5833333333333334 and parameters: {'max_features': 13, 'max_depth': 8, 'min_samples_leaf': 9, 'min_samples_split': 8, 'min_weight_fraction_leaf': 0.019063504909837874}. Best is trial 1 with value: 0.625.\n",
      "C:\\Users\\ACER\\AppData\\Local\\Temp\\ipykernel_7812\\1611838839.py:7: FutureWarning: suggest_loguniform has been deprecated in v3.0.0. This feature will be removed in v6.0.0. See https://github.com/optuna/optuna/releases/tag/v3.0.0. Use suggest_float(..., log=True) instead.\n",
      "  min_weight_fraction_leaf = trial.suggest_loguniform('min_weight_fraction_leaf', 0.01, 0.5)\n",
      "[I 2025-05-02 01:12:52,263] Trial 34 finished with value: 0.625 and parameters: {'max_features': 11, 'max_depth': 7, 'min_samples_leaf': 10, 'min_samples_split': 7, 'min_weight_fraction_leaf': 0.08552685796229322}. Best is trial 1 with value: 0.625.\n",
      "C:\\Users\\ACER\\AppData\\Local\\Temp\\ipykernel_7812\\1611838839.py:7: FutureWarning: suggest_loguniform has been deprecated in v3.0.0. This feature will be removed in v6.0.0. See https://github.com/optuna/optuna/releases/tag/v3.0.0. Use suggest_float(..., log=True) instead.\n",
      "  min_weight_fraction_leaf = trial.suggest_loguniform('min_weight_fraction_leaf', 0.01, 0.5)\n",
      "[I 2025-05-02 01:12:52,316] Trial 35 finished with value: 0.5833333333333334 and parameters: {'max_features': 17, 'max_depth': 6, 'min_samples_leaf': 9, 'min_samples_split': 10, 'min_weight_fraction_leaf': 0.04896450442718153}. Best is trial 1 with value: 0.625.\n",
      "C:\\Users\\ACER\\AppData\\Local\\Temp\\ipykernel_7812\\1611838839.py:7: FutureWarning: suggest_loguniform has been deprecated in v3.0.0. This feature will be removed in v6.0.0. See https://github.com/optuna/optuna/releases/tag/v3.0.0. Use suggest_float(..., log=True) instead.\n",
      "  min_weight_fraction_leaf = trial.suggest_loguniform('min_weight_fraction_leaf', 0.01, 0.5)\n",
      "[I 2025-05-02 01:12:52,354] Trial 36 finished with value: 0.6166666666666668 and parameters: {'max_features': 8, 'max_depth': 4, 'min_samples_leaf': 4, 'min_samples_split': 8, 'min_weight_fraction_leaf': 0.03728416318160415}. Best is trial 1 with value: 0.625.\n",
      "C:\\Users\\ACER\\AppData\\Local\\Temp\\ipykernel_7812\\1611838839.py:7: FutureWarning: suggest_loguniform has been deprecated in v3.0.0. This feature will be removed in v6.0.0. See https://github.com/optuna/optuna/releases/tag/v3.0.0. Use suggest_float(..., log=True) instead.\n",
      "  min_weight_fraction_leaf = trial.suggest_loguniform('min_weight_fraction_leaf', 0.01, 0.5)\n",
      "[I 2025-05-02 01:12:52,391] Trial 37 finished with value: 0.6083333333333334 and parameters: {'max_features': 15, 'max_depth': 8, 'min_samples_leaf': 10, 'min_samples_split': 9, 'min_weight_fraction_leaf': 0.11130382440344655}. Best is trial 1 with value: 0.625.\n",
      "C:\\Users\\ACER\\AppData\\Local\\Temp\\ipykernel_7812\\1611838839.py:7: FutureWarning: suggest_loguniform has been deprecated in v3.0.0. This feature will be removed in v6.0.0. See https://github.com/optuna/optuna/releases/tag/v3.0.0. Use suggest_float(..., log=True) instead.\n",
      "  min_weight_fraction_leaf = trial.suggest_loguniform('min_weight_fraction_leaf', 0.01, 0.5)\n",
      "[I 2025-05-02 01:12:52,428] Trial 38 finished with value: 0.6166666666666667 and parameters: {'max_features': 18, 'max_depth': 9, 'min_samples_leaf': 8, 'min_samples_split': 7, 'min_weight_fraction_leaf': 0.012820078718067129}. Best is trial 1 with value: 0.625.\n",
      "C:\\Users\\ACER\\AppData\\Local\\Temp\\ipykernel_7812\\1611838839.py:7: FutureWarning: suggest_loguniform has been deprecated in v3.0.0. This feature will be removed in v6.0.0. See https://github.com/optuna/optuna/releases/tag/v3.0.0. Use suggest_float(..., log=True) instead.\n",
      "  min_weight_fraction_leaf = trial.suggest_loguniform('min_weight_fraction_leaf', 0.01, 0.5)\n",
      "[I 2025-05-02 01:12:52,466] Trial 39 finished with value: 0.5833333333333334 and parameters: {'max_features': 12, 'max_depth': 6, 'min_samples_leaf': 9, 'min_samples_split': 5, 'min_weight_fraction_leaf': 0.017346164250874683}. Best is trial 1 with value: 0.625.\n",
      "C:\\Users\\ACER\\AppData\\Local\\Temp\\ipykernel_7812\\1611838839.py:7: FutureWarning: suggest_loguniform has been deprecated in v3.0.0. This feature will be removed in v6.0.0. See https://github.com/optuna/optuna/releases/tag/v3.0.0. Use suggest_float(..., log=True) instead.\n",
      "  min_weight_fraction_leaf = trial.suggest_loguniform('min_weight_fraction_leaf', 0.01, 0.5)\n",
      "[I 2025-05-02 01:12:52,503] Trial 40 finished with value: 0.625 and parameters: {'max_features': 8, 'max_depth': 5, 'min_samples_leaf': 10, 'min_samples_split': 6, 'min_weight_fraction_leaf': 0.023426764751726656}. Best is trial 1 with value: 0.625.\n",
      "C:\\Users\\ACER\\AppData\\Local\\Temp\\ipykernel_7812\\1611838839.py:7: FutureWarning: suggest_loguniform has been deprecated in v3.0.0. This feature will be removed in v6.0.0. See https://github.com/optuna/optuna/releases/tag/v3.0.0. Use suggest_float(..., log=True) instead.\n",
      "  min_weight_fraction_leaf = trial.suggest_loguniform('min_weight_fraction_leaf', 0.01, 0.5)\n",
      "[I 2025-05-02 01:12:52,539] Trial 41 finished with value: 0.625 and parameters: {'max_features': 10, 'max_depth': 6, 'min_samples_leaf': 10, 'min_samples_split': 7, 'min_weight_fraction_leaf': 0.029363722475878453}. Best is trial 1 with value: 0.625.\n",
      "C:\\Users\\ACER\\AppData\\Local\\Temp\\ipykernel_7812\\1611838839.py:7: FutureWarning: suggest_loguniform has been deprecated in v3.0.0. This feature will be removed in v6.0.0. See https://github.com/optuna/optuna/releases/tag/v3.0.0. Use suggest_float(..., log=True) instead.\n",
      "  min_weight_fraction_leaf = trial.suggest_loguniform('min_weight_fraction_leaf', 0.01, 0.5)\n",
      "[I 2025-05-02 01:12:52,576] Trial 42 finished with value: 0.625 and parameters: {'max_features': 6, 'max_depth': 7, 'min_samples_leaf': 10, 'min_samples_split': 8, 'min_weight_fraction_leaf': 0.02200459209574802}. Best is trial 1 with value: 0.625.\n",
      "C:\\Users\\ACER\\AppData\\Local\\Temp\\ipykernel_7812\\1611838839.py:7: FutureWarning: suggest_loguniform has been deprecated in v3.0.0. This feature will be removed in v6.0.0. See https://github.com/optuna/optuna/releases/tag/v3.0.0. Use suggest_float(..., log=True) instead.\n",
      "  min_weight_fraction_leaf = trial.suggest_loguniform('min_weight_fraction_leaf', 0.01, 0.5)\n",
      "[I 2025-05-02 01:12:52,622] Trial 43 finished with value: 0.5833333333333334 and parameters: {'max_features': 11, 'max_depth': 5, 'min_samples_leaf': 9, 'min_samples_split': 7, 'min_weight_fraction_leaf': 0.016727597687946193}. Best is trial 1 with value: 0.625.\n",
      "C:\\Users\\ACER\\AppData\\Local\\Temp\\ipykernel_7812\\1611838839.py:7: FutureWarning: suggest_loguniform has been deprecated in v3.0.0. This feature will be removed in v6.0.0. See https://github.com/optuna/optuna/releases/tag/v3.0.0. Use suggest_float(..., log=True) instead.\n",
      "  min_weight_fraction_leaf = trial.suggest_loguniform('min_weight_fraction_leaf', 0.01, 0.5)\n",
      "[I 2025-05-02 01:12:52,661] Trial 44 finished with value: 0.5916666666666667 and parameters: {'max_features': 13, 'max_depth': 6, 'min_samples_leaf': 5, 'min_samples_split': 8, 'min_weight_fraction_leaf': 0.042620317331081875}. Best is trial 1 with value: 0.625.\n",
      "C:\\Users\\ACER\\AppData\\Local\\Temp\\ipykernel_7812\\1611838839.py:7: FutureWarning: suggest_loguniform has been deprecated in v3.0.0. This feature will be removed in v6.0.0. See https://github.com/optuna/optuna/releases/tag/v3.0.0. Use suggest_float(..., log=True) instead.\n",
      "  min_weight_fraction_leaf = trial.suggest_loguniform('min_weight_fraction_leaf', 0.01, 0.5)\n",
      "[I 2025-05-02 01:12:52,699] Trial 45 finished with value: 0.625 and parameters: {'max_features': 10, 'max_depth': 7, 'min_samples_leaf': 10, 'min_samples_split': 7, 'min_weight_fraction_leaf': 0.027472705453419666}. Best is trial 1 with value: 0.625.\n",
      "C:\\Users\\ACER\\AppData\\Local\\Temp\\ipykernel_7812\\1611838839.py:7: FutureWarning: suggest_loguniform has been deprecated in v3.0.0. This feature will be removed in v6.0.0. See https://github.com/optuna/optuna/releases/tag/v3.0.0. Use suggest_float(..., log=True) instead.\n",
      "  min_weight_fraction_leaf = trial.suggest_loguniform('min_weight_fraction_leaf', 0.01, 0.5)\n",
      "[I 2025-05-02 01:12:52,738] Trial 46 finished with value: 0.6166666666666667 and parameters: {'max_features': 9, 'max_depth': 7, 'min_samples_leaf': 8, 'min_samples_split': 8, 'min_weight_fraction_leaf': 0.012349284132434446}. Best is trial 1 with value: 0.625.\n",
      "C:\\Users\\ACER\\AppData\\Local\\Temp\\ipykernel_7812\\1611838839.py:7: FutureWarning: suggest_loguniform has been deprecated in v3.0.0. This feature will be removed in v6.0.0. See https://github.com/optuna/optuna/releases/tag/v3.0.0. Use suggest_float(..., log=True) instead.\n",
      "  min_weight_fraction_leaf = trial.suggest_loguniform('min_weight_fraction_leaf', 0.01, 0.5)\n",
      "[I 2025-05-02 01:12:52,777] Trial 47 finished with value: 0.5833333333333334 and parameters: {'max_features': 15, 'max_depth': 6, 'min_samples_leaf': 9, 'min_samples_split': 6, 'min_weight_fraction_leaf': 0.0645801093677007}. Best is trial 1 with value: 0.625.\n",
      "C:\\Users\\ACER\\AppData\\Local\\Temp\\ipykernel_7812\\1611838839.py:7: FutureWarning: suggest_loguniform has been deprecated in v3.0.0. This feature will be removed in v6.0.0. See https://github.com/optuna/optuna/releases/tag/v3.0.0. Use suggest_float(..., log=True) instead.\n",
      "  min_weight_fraction_leaf = trial.suggest_loguniform('min_weight_fraction_leaf', 0.01, 0.5)\n",
      "[I 2025-05-02 01:12:52,817] Trial 48 finished with value: 0.6166666666666666 and parameters: {'max_features': 4, 'max_depth': 5, 'min_samples_leaf': 7, 'min_samples_split': 2, 'min_weight_fraction_leaf': 0.18053754124856028}. Best is trial 1 with value: 0.625.\n",
      "C:\\Users\\ACER\\AppData\\Local\\Temp\\ipykernel_7812\\1611838839.py:7: FutureWarning: suggest_loguniform has been deprecated in v3.0.0. This feature will be removed in v6.0.0. See https://github.com/optuna/optuna/releases/tag/v3.0.0. Use suggest_float(..., log=True) instead.\n",
      "  min_weight_fraction_leaf = trial.suggest_loguniform('min_weight_fraction_leaf', 0.01, 0.5)\n",
      "[I 2025-05-02 01:12:52,856] Trial 49 finished with value: 0.625 and parameters: {'max_features': 12, 'max_depth': 7, 'min_samples_leaf': 10, 'min_samples_split': 9, 'min_weight_fraction_leaf': 0.05529146807746681}. Best is trial 1 with value: 0.625.\n"
     ]
    },
    {
     "name": "stdout",
     "output_type": "stream",
     "text": [
      "\n",
      "Tham số tốt nhất từ Optuna: {'max_features': 5, 'max_depth': 5, 'min_samples_leaf': 10, 'min_samples_split': 7, 'min_weight_fraction_leaf': 0.024145363553254372}\n"
     ]
    }
   ],
   "source": [
    "def objective(trial): #Tạo hàm có tên objective và hàm này nhận 1 tham số là trial\n",
    "    #Xét giá trị cho các tham số của mô hình trong một khoảng chỉ định\n",
    "    max_features = trial.suggest_int('max_features',4,20)\n",
    "    max_depth = trial.suggest_int('max_depth', 4, 10)\n",
    "    min_samples_leaf = trial.suggest_int('min_samples_leaf', 2, 10)\n",
    "    min_samples_split = trial.suggest_int('min_samples_split', 2,10)\n",
    "    min_weight_fraction_leaf = trial.suggest_loguniform('min_weight_fraction_leaf', 0.01, 0.5)\n",
    "    \n",
    "    #Tạo mô hình cây quyết định với tham số thử nghiệm\n",
    "    dt = tree.DecisionTreeClassifier(\n",
    "        criterion='entropy',\n",
    "        max_depth=max_depth,\n",
    "        min_samples_split=min_samples_split,\n",
    "        min_samples_leaf=min_samples_leaf,\n",
    "        min_weight_fraction_leaf=min_weight_fraction_leaf,\n",
    "        random_state=42\n",
    "    )\n",
    "    #Đánh giá hiệu suất mô hình bằng kiểm định chéo\n",
    "    scores = cross_val_score(dt, X_train, y_train, cv=5, scoring='accuracy')\n",
    "    return scores.mean()\n",
    " #Tạo và chạy quá trình tối ưu hóa bằng Optuna\n",
    "study = optuna.create_study(direction='maximize')\n",
    "study.optimize(objective, n_trials=50)\n",
    "\n",
    "# Lấy và hiển thị tham số tốt nhất\n",
    "best_params = study.best_params\n",
    "print(\"\\nTham số tốt nhất từ Optuna:\", best_params)"
   ]
  },
  {
   "cell_type": "markdown",
   "id": "3eb0ea3a",
   "metadata": {},
   "source": [
    "## 6. Xây dựng và huấn luyện mô hình với tham số tốt nhất"
   ]
  },
  {
   "cell_type": "code",
   "execution_count": 71,
   "id": "48c1581f",
   "metadata": {},
   "outputs": [
    {
     "data": {
      "text/html": [
       "<style>#sk-container-id-2 {\n",
       "  /* Definition of color scheme common for light and dark mode */\n",
       "  --sklearn-color-text: #000;\n",
       "  --sklearn-color-text-muted: #666;\n",
       "  --sklearn-color-line: gray;\n",
       "  /* Definition of color scheme for unfitted estimators */\n",
       "  --sklearn-color-unfitted-level-0: #fff5e6;\n",
       "  --sklearn-color-unfitted-level-1: #f6e4d2;\n",
       "  --sklearn-color-unfitted-level-2: #ffe0b3;\n",
       "  --sklearn-color-unfitted-level-3: chocolate;\n",
       "  /* Definition of color scheme for fitted estimators */\n",
       "  --sklearn-color-fitted-level-0: #f0f8ff;\n",
       "  --sklearn-color-fitted-level-1: #d4ebff;\n",
       "  --sklearn-color-fitted-level-2: #b3dbfd;\n",
       "  --sklearn-color-fitted-level-3: cornflowerblue;\n",
       "\n",
       "  /* Specific color for light theme */\n",
       "  --sklearn-color-text-on-default-background: var(--sg-text-color, var(--theme-code-foreground, var(--jp-content-font-color1, black)));\n",
       "  --sklearn-color-background: var(--sg-background-color, var(--theme-background, var(--jp-layout-color0, white)));\n",
       "  --sklearn-color-border-box: var(--sg-text-color, var(--theme-code-foreground, var(--jp-content-font-color1, black)));\n",
       "  --sklearn-color-icon: #696969;\n",
       "\n",
       "  @media (prefers-color-scheme: dark) {\n",
       "    /* Redefinition of color scheme for dark theme */\n",
       "    --sklearn-color-text-on-default-background: var(--sg-text-color, var(--theme-code-foreground, var(--jp-content-font-color1, white)));\n",
       "    --sklearn-color-background: var(--sg-background-color, var(--theme-background, var(--jp-layout-color0, #111)));\n",
       "    --sklearn-color-border-box: var(--sg-text-color, var(--theme-code-foreground, var(--jp-content-font-color1, white)));\n",
       "    --sklearn-color-icon: #878787;\n",
       "  }\n",
       "}\n",
       "\n",
       "#sk-container-id-2 {\n",
       "  color: var(--sklearn-color-text);\n",
       "}\n",
       "\n",
       "#sk-container-id-2 pre {\n",
       "  padding: 0;\n",
       "}\n",
       "\n",
       "#sk-container-id-2 input.sk-hidden--visually {\n",
       "  border: 0;\n",
       "  clip: rect(1px 1px 1px 1px);\n",
       "  clip: rect(1px, 1px, 1px, 1px);\n",
       "  height: 1px;\n",
       "  margin: -1px;\n",
       "  overflow: hidden;\n",
       "  padding: 0;\n",
       "  position: absolute;\n",
       "  width: 1px;\n",
       "}\n",
       "\n",
       "#sk-container-id-2 div.sk-dashed-wrapped {\n",
       "  border: 1px dashed var(--sklearn-color-line);\n",
       "  margin: 0 0.4em 0.5em 0.4em;\n",
       "  box-sizing: border-box;\n",
       "  padding-bottom: 0.4em;\n",
       "  background-color: var(--sklearn-color-background);\n",
       "}\n",
       "\n",
       "#sk-container-id-2 div.sk-container {\n",
       "  /* jupyter's `normalize.less` sets `[hidden] { display: none; }`\n",
       "     but bootstrap.min.css set `[hidden] { display: none !important; }`\n",
       "     so we also need the `!important` here to be able to override the\n",
       "     default hidden behavior on the sphinx rendered scikit-learn.org.\n",
       "     See: https://github.com/scikit-learn/scikit-learn/issues/21755 */\n",
       "  display: inline-block !important;\n",
       "  position: relative;\n",
       "}\n",
       "\n",
       "#sk-container-id-2 div.sk-text-repr-fallback {\n",
       "  display: none;\n",
       "}\n",
       "\n",
       "div.sk-parallel-item,\n",
       "div.sk-serial,\n",
       "div.sk-item {\n",
       "  /* draw centered vertical line to link estimators */\n",
       "  background-image: linear-gradient(var(--sklearn-color-text-on-default-background), var(--sklearn-color-text-on-default-background));\n",
       "  background-size: 2px 100%;\n",
       "  background-repeat: no-repeat;\n",
       "  background-position: center center;\n",
       "}\n",
       "\n",
       "/* Parallel-specific style estimator block */\n",
       "\n",
       "#sk-container-id-2 div.sk-parallel-item::after {\n",
       "  content: \"\";\n",
       "  width: 100%;\n",
       "  border-bottom: 2px solid var(--sklearn-color-text-on-default-background);\n",
       "  flex-grow: 1;\n",
       "}\n",
       "\n",
       "#sk-container-id-2 div.sk-parallel {\n",
       "  display: flex;\n",
       "  align-items: stretch;\n",
       "  justify-content: center;\n",
       "  background-color: var(--sklearn-color-background);\n",
       "  position: relative;\n",
       "}\n",
       "\n",
       "#sk-container-id-2 div.sk-parallel-item {\n",
       "  display: flex;\n",
       "  flex-direction: column;\n",
       "}\n",
       "\n",
       "#sk-container-id-2 div.sk-parallel-item:first-child::after {\n",
       "  align-self: flex-end;\n",
       "  width: 50%;\n",
       "}\n",
       "\n",
       "#sk-container-id-2 div.sk-parallel-item:last-child::after {\n",
       "  align-self: flex-start;\n",
       "  width: 50%;\n",
       "}\n",
       "\n",
       "#sk-container-id-2 div.sk-parallel-item:only-child::after {\n",
       "  width: 0;\n",
       "}\n",
       "\n",
       "/* Serial-specific style estimator block */\n",
       "\n",
       "#sk-container-id-2 div.sk-serial {\n",
       "  display: flex;\n",
       "  flex-direction: column;\n",
       "  align-items: center;\n",
       "  background-color: var(--sklearn-color-background);\n",
       "  padding-right: 1em;\n",
       "  padding-left: 1em;\n",
       "}\n",
       "\n",
       "\n",
       "/* Toggleable style: style used for estimator/Pipeline/ColumnTransformer box that is\n",
       "clickable and can be expanded/collapsed.\n",
       "- Pipeline and ColumnTransformer use this feature and define the default style\n",
       "- Estimators will overwrite some part of the style using the `sk-estimator` class\n",
       "*/\n",
       "\n",
       "/* Pipeline and ColumnTransformer style (default) */\n",
       "\n",
       "#sk-container-id-2 div.sk-toggleable {\n",
       "  /* Default theme specific background. It is overwritten whether we have a\n",
       "  specific estimator or a Pipeline/ColumnTransformer */\n",
       "  background-color: var(--sklearn-color-background);\n",
       "}\n",
       "\n",
       "/* Toggleable label */\n",
       "#sk-container-id-2 label.sk-toggleable__label {\n",
       "  cursor: pointer;\n",
       "  display: flex;\n",
       "  width: 100%;\n",
       "  margin-bottom: 0;\n",
       "  padding: 0.5em;\n",
       "  box-sizing: border-box;\n",
       "  text-align: center;\n",
       "  align-items: start;\n",
       "  justify-content: space-between;\n",
       "  gap: 0.5em;\n",
       "}\n",
       "\n",
       "#sk-container-id-2 label.sk-toggleable__label .caption {\n",
       "  font-size: 0.6rem;\n",
       "  font-weight: lighter;\n",
       "  color: var(--sklearn-color-text-muted);\n",
       "}\n",
       "\n",
       "#sk-container-id-2 label.sk-toggleable__label-arrow:before {\n",
       "  /* Arrow on the left of the label */\n",
       "  content: \"▸\";\n",
       "  float: left;\n",
       "  margin-right: 0.25em;\n",
       "  color: var(--sklearn-color-icon);\n",
       "}\n",
       "\n",
       "#sk-container-id-2 label.sk-toggleable__label-arrow:hover:before {\n",
       "  color: var(--sklearn-color-text);\n",
       "}\n",
       "\n",
       "/* Toggleable content - dropdown */\n",
       "\n",
       "#sk-container-id-2 div.sk-toggleable__content {\n",
       "  max-height: 0;\n",
       "  max-width: 0;\n",
       "  overflow: hidden;\n",
       "  text-align: left;\n",
       "  /* unfitted */\n",
       "  background-color: var(--sklearn-color-unfitted-level-0);\n",
       "}\n",
       "\n",
       "#sk-container-id-2 div.sk-toggleable__content.fitted {\n",
       "  /* fitted */\n",
       "  background-color: var(--sklearn-color-fitted-level-0);\n",
       "}\n",
       "\n",
       "#sk-container-id-2 div.sk-toggleable__content pre {\n",
       "  margin: 0.2em;\n",
       "  border-radius: 0.25em;\n",
       "  color: var(--sklearn-color-text);\n",
       "  /* unfitted */\n",
       "  background-color: var(--sklearn-color-unfitted-level-0);\n",
       "}\n",
       "\n",
       "#sk-container-id-2 div.sk-toggleable__content.fitted pre {\n",
       "  /* unfitted */\n",
       "  background-color: var(--sklearn-color-fitted-level-0);\n",
       "}\n",
       "\n",
       "#sk-container-id-2 input.sk-toggleable__control:checked~div.sk-toggleable__content {\n",
       "  /* Expand drop-down */\n",
       "  max-height: 200px;\n",
       "  max-width: 100%;\n",
       "  overflow: auto;\n",
       "}\n",
       "\n",
       "#sk-container-id-2 input.sk-toggleable__control:checked~label.sk-toggleable__label-arrow:before {\n",
       "  content: \"▾\";\n",
       "}\n",
       "\n",
       "/* Pipeline/ColumnTransformer-specific style */\n",
       "\n",
       "#sk-container-id-2 div.sk-label input.sk-toggleable__control:checked~label.sk-toggleable__label {\n",
       "  color: var(--sklearn-color-text);\n",
       "  background-color: var(--sklearn-color-unfitted-level-2);\n",
       "}\n",
       "\n",
       "#sk-container-id-2 div.sk-label.fitted input.sk-toggleable__control:checked~label.sk-toggleable__label {\n",
       "  background-color: var(--sklearn-color-fitted-level-2);\n",
       "}\n",
       "\n",
       "/* Estimator-specific style */\n",
       "\n",
       "/* Colorize estimator box */\n",
       "#sk-container-id-2 div.sk-estimator input.sk-toggleable__control:checked~label.sk-toggleable__label {\n",
       "  /* unfitted */\n",
       "  background-color: var(--sklearn-color-unfitted-level-2);\n",
       "}\n",
       "\n",
       "#sk-container-id-2 div.sk-estimator.fitted input.sk-toggleable__control:checked~label.sk-toggleable__label {\n",
       "  /* fitted */\n",
       "  background-color: var(--sklearn-color-fitted-level-2);\n",
       "}\n",
       "\n",
       "#sk-container-id-2 div.sk-label label.sk-toggleable__label,\n",
       "#sk-container-id-2 div.sk-label label {\n",
       "  /* The background is the default theme color */\n",
       "  color: var(--sklearn-color-text-on-default-background);\n",
       "}\n",
       "\n",
       "/* On hover, darken the color of the background */\n",
       "#sk-container-id-2 div.sk-label:hover label.sk-toggleable__label {\n",
       "  color: var(--sklearn-color-text);\n",
       "  background-color: var(--sklearn-color-unfitted-level-2);\n",
       "}\n",
       "\n",
       "/* Label box, darken color on hover, fitted */\n",
       "#sk-container-id-2 div.sk-label.fitted:hover label.sk-toggleable__label.fitted {\n",
       "  color: var(--sklearn-color-text);\n",
       "  background-color: var(--sklearn-color-fitted-level-2);\n",
       "}\n",
       "\n",
       "/* Estimator label */\n",
       "\n",
       "#sk-container-id-2 div.sk-label label {\n",
       "  font-family: monospace;\n",
       "  font-weight: bold;\n",
       "  display: inline-block;\n",
       "  line-height: 1.2em;\n",
       "}\n",
       "\n",
       "#sk-container-id-2 div.sk-label-container {\n",
       "  text-align: center;\n",
       "}\n",
       "\n",
       "/* Estimator-specific */\n",
       "#sk-container-id-2 div.sk-estimator {\n",
       "  font-family: monospace;\n",
       "  border: 1px dotted var(--sklearn-color-border-box);\n",
       "  border-radius: 0.25em;\n",
       "  box-sizing: border-box;\n",
       "  margin-bottom: 0.5em;\n",
       "  /* unfitted */\n",
       "  background-color: var(--sklearn-color-unfitted-level-0);\n",
       "}\n",
       "\n",
       "#sk-container-id-2 div.sk-estimator.fitted {\n",
       "  /* fitted */\n",
       "  background-color: var(--sklearn-color-fitted-level-0);\n",
       "}\n",
       "\n",
       "/* on hover */\n",
       "#sk-container-id-2 div.sk-estimator:hover {\n",
       "  /* unfitted */\n",
       "  background-color: var(--sklearn-color-unfitted-level-2);\n",
       "}\n",
       "\n",
       "#sk-container-id-2 div.sk-estimator.fitted:hover {\n",
       "  /* fitted */\n",
       "  background-color: var(--sklearn-color-fitted-level-2);\n",
       "}\n",
       "\n",
       "/* Specification for estimator info (e.g. \"i\" and \"?\") */\n",
       "\n",
       "/* Common style for \"i\" and \"?\" */\n",
       "\n",
       ".sk-estimator-doc-link,\n",
       "a:link.sk-estimator-doc-link,\n",
       "a:visited.sk-estimator-doc-link {\n",
       "  float: right;\n",
       "  font-size: smaller;\n",
       "  line-height: 1em;\n",
       "  font-family: monospace;\n",
       "  background-color: var(--sklearn-color-background);\n",
       "  border-radius: 1em;\n",
       "  height: 1em;\n",
       "  width: 1em;\n",
       "  text-decoration: none !important;\n",
       "  margin-left: 0.5em;\n",
       "  text-align: center;\n",
       "  /* unfitted */\n",
       "  border: var(--sklearn-color-unfitted-level-1) 1pt solid;\n",
       "  color: var(--sklearn-color-unfitted-level-1);\n",
       "}\n",
       "\n",
       ".sk-estimator-doc-link.fitted,\n",
       "a:link.sk-estimator-doc-link.fitted,\n",
       "a:visited.sk-estimator-doc-link.fitted {\n",
       "  /* fitted */\n",
       "  border: var(--sklearn-color-fitted-level-1) 1pt solid;\n",
       "  color: var(--sklearn-color-fitted-level-1);\n",
       "}\n",
       "\n",
       "/* On hover */\n",
       "div.sk-estimator:hover .sk-estimator-doc-link:hover,\n",
       ".sk-estimator-doc-link:hover,\n",
       "div.sk-label-container:hover .sk-estimator-doc-link:hover,\n",
       ".sk-estimator-doc-link:hover {\n",
       "  /* unfitted */\n",
       "  background-color: var(--sklearn-color-unfitted-level-3);\n",
       "  color: var(--sklearn-color-background);\n",
       "  text-decoration: none;\n",
       "}\n",
       "\n",
       "div.sk-estimator.fitted:hover .sk-estimator-doc-link.fitted:hover,\n",
       ".sk-estimator-doc-link.fitted:hover,\n",
       "div.sk-label-container:hover .sk-estimator-doc-link.fitted:hover,\n",
       ".sk-estimator-doc-link.fitted:hover {\n",
       "  /* fitted */\n",
       "  background-color: var(--sklearn-color-fitted-level-3);\n",
       "  color: var(--sklearn-color-background);\n",
       "  text-decoration: none;\n",
       "}\n",
       "\n",
       "/* Span, style for the box shown on hovering the info icon */\n",
       ".sk-estimator-doc-link span {\n",
       "  display: none;\n",
       "  z-index: 9999;\n",
       "  position: relative;\n",
       "  font-weight: normal;\n",
       "  right: .2ex;\n",
       "  padding: .5ex;\n",
       "  margin: .5ex;\n",
       "  width: min-content;\n",
       "  min-width: 20ex;\n",
       "  max-width: 50ex;\n",
       "  color: var(--sklearn-color-text);\n",
       "  box-shadow: 2pt 2pt 4pt #999;\n",
       "  /* unfitted */\n",
       "  background: var(--sklearn-color-unfitted-level-0);\n",
       "  border: .5pt solid var(--sklearn-color-unfitted-level-3);\n",
       "}\n",
       "\n",
       ".sk-estimator-doc-link.fitted span {\n",
       "  /* fitted */\n",
       "  background: var(--sklearn-color-fitted-level-0);\n",
       "  border: var(--sklearn-color-fitted-level-3);\n",
       "}\n",
       "\n",
       ".sk-estimator-doc-link:hover span {\n",
       "  display: block;\n",
       "}\n",
       "\n",
       "/* \"?\"-specific style due to the `<a>` HTML tag */\n",
       "\n",
       "#sk-container-id-2 a.estimator_doc_link {\n",
       "  float: right;\n",
       "  font-size: 1rem;\n",
       "  line-height: 1em;\n",
       "  font-family: monospace;\n",
       "  background-color: var(--sklearn-color-background);\n",
       "  border-radius: 1rem;\n",
       "  height: 1rem;\n",
       "  width: 1rem;\n",
       "  text-decoration: none;\n",
       "  /* unfitted */\n",
       "  color: var(--sklearn-color-unfitted-level-1);\n",
       "  border: var(--sklearn-color-unfitted-level-1) 1pt solid;\n",
       "}\n",
       "\n",
       "#sk-container-id-2 a.estimator_doc_link.fitted {\n",
       "  /* fitted */\n",
       "  border: var(--sklearn-color-fitted-level-1) 1pt solid;\n",
       "  color: var(--sklearn-color-fitted-level-1);\n",
       "}\n",
       "\n",
       "/* On hover */\n",
       "#sk-container-id-2 a.estimator_doc_link:hover {\n",
       "  /* unfitted */\n",
       "  background-color: var(--sklearn-color-unfitted-level-3);\n",
       "  color: var(--sklearn-color-background);\n",
       "  text-decoration: none;\n",
       "}\n",
       "\n",
       "#sk-container-id-2 a.estimator_doc_link.fitted:hover {\n",
       "  /* fitted */\n",
       "  background-color: var(--sklearn-color-fitted-level-3);\n",
       "}\n",
       "</style><div id=\"sk-container-id-2\" class=\"sk-top-container\"><div class=\"sk-text-repr-fallback\"><pre>DecisionTreeClassifier(criterion=&#x27;entropy&#x27;, max_depth=5, max_features=5,\n",
       "                       min_samples_leaf=10, min_samples_split=7,\n",
       "                       min_weight_fraction_leaf=0.024145363553254372,\n",
       "                       random_state=42)</pre><b>In a Jupyter environment, please rerun this cell to show the HTML representation or trust the notebook. <br />On GitHub, the HTML representation is unable to render, please try loading this page with nbviewer.org.</b></div><div class=\"sk-container\" hidden><div class=\"sk-item\"><div class=\"sk-estimator fitted sk-toggleable\"><input class=\"sk-toggleable__control sk-hidden--visually\" id=\"sk-estimator-id-2\" type=\"checkbox\" checked><label for=\"sk-estimator-id-2\" class=\"sk-toggleable__label fitted sk-toggleable__label-arrow\"><div><div>DecisionTreeClassifier</div></div><div><a class=\"sk-estimator-doc-link fitted\" rel=\"noreferrer\" target=\"_blank\" href=\"https://scikit-learn.org/1.6/modules/generated/sklearn.tree.DecisionTreeClassifier.html\">?<span>Documentation for DecisionTreeClassifier</span></a><span class=\"sk-estimator-doc-link fitted\">i<span>Fitted</span></span></div></label><div class=\"sk-toggleable__content fitted\"><pre>DecisionTreeClassifier(criterion=&#x27;entropy&#x27;, max_depth=5, max_features=5,\n",
       "                       min_samples_leaf=10, min_samples_split=7,\n",
       "                       min_weight_fraction_leaf=0.024145363553254372,\n",
       "                       random_state=42)</pre></div> </div></div></div></div>"
      ],
      "text/plain": [
       "DecisionTreeClassifier(criterion='entropy', max_depth=5, max_features=5,\n",
       "                       min_samples_leaf=10, min_samples_split=7,\n",
       "                       min_weight_fraction_leaf=0.024145363553254372,\n",
       "                       random_state=42)"
      ]
     },
     "execution_count": 71,
     "metadata": {},
     "output_type": "execute_result"
    }
   ],
   "source": [
    "#Tạo mô hình cây quyết định với tham số tối ưu\n",
    "dt = tree.DecisionTreeClassifier(\n",
    "    criterion='entropy',\n",
    "    max_depth=best_params['max_depth'],\n",
    "    max_features=best_params['max_features'],\n",
    "    min_samples_split=best_params['min_samples_split'],\n",
    "    min_samples_leaf=best_params['min_samples_leaf'],\n",
    "    min_weight_fraction_leaf = best_params['min_weight_fraction_leaf'],\n",
    "    random_state=42\n",
    ")\n",
    "#Huấn luyện mô hình trên tập dữ liệu huấn luyện\n",
    "dt.fit(X_train, y_train)"
   ]
  },
  {
   "cell_type": "markdown",
   "id": "8de6ed85",
   "metadata": {},
   "source": [
    "## 7. Trực quan hóa cây quyết định bằng plot_tree"
   ]
  },
  {
   "cell_type": "code",
   "execution_count": 81,
   "id": "52495305",
   "metadata": {},
   "outputs": [
    {
     "data": {
      "image/png": "[encoded data removed]",
      "text/plain": [
       "<Figure size 2000x1000 with 1 Axes>"
      ]
     },
     "metadata": {},
     "output_type": "display_data"
    }
   ],
   "source": [
    "#Thiết lập kích thước biểu đồ\n",
    "plt.figure(figsize=(20, 10))\n",
    "tree.plot_tree(\n",
    "    dt,\n",
    "    fontsize=11,\n",
    "    filled=True,\n",
    "    feature_names=X.columns,\n",
    "    class_names=['No', 'Yes']\n",
    ")\n",
    "#Đặt tên biểu đồ\n",
    "plt.title('Cây quyết định dự đoán Pass/Fail')\n",
    "plt.show()"
   ]
  },
  {
   "cell_type": "markdown",
   "id": "f0c0e468",
   "metadata": {},
   "source": [
    "## 8. Đánh giá mô hình"
   ]
  },
  {
   "cell_type": "markdown",
   "id": "cc7049de",
   "metadata": {},
   "source": [
    "## Kiểm tra sự ổn định của mô hình thông qua kỹ thuật kiểm tra chéo 5 lần (k-fold cross-validation)"
   ]
  },
  {
   "cell_type": "code",
   "execution_count": null,
   "id": "380218c1",
   "metadata": {},
   "outputs": [
    {
     "name": "stdout",
     "output_type": "stream",
     "text": [
      "[0.625      0.41666667 0.79166667 0.66666667 0.66666667]\n"
     ]
    }
   ],
   "source": [
    "print(cross_val_score(dt, X_train, y_train)) #Tham số cross validation mặc đinh là 5"
   ]
  },
  {
   "cell_type": "markdown",
   "id": "fea17ebb",
   "metadata": {},
   "source": [
    "## Dự đoán trên tập kiểm tra"
   ]
  },
  {
   "cell_type": "code",
   "execution_count": 74,
   "id": "3619f998",
   "metadata": {},
   "outputs": [],
   "source": [
    "y_pred = dt.predict(X_test)"
   ]
  },
  {
   "cell_type": "markdown",
   "id": "f4c846a1",
   "metadata": {},
   "source": [
    "## Độ chính xác"
   ]
  },
  {
   "cell_type": "code",
   "execution_count": 75,
   "id": "7896fec6",
   "metadata": {},
   "outputs": [
    {
     "name": "stdout",
     "output_type": "stream",
     "text": [
      "\n",
      "Độ chính xác của mô hình: 0.57\n"
     ]
    }
   ],
   "source": [
    "accuracy = accuracy_score(y_test, y_pred)\n",
    "print(f\"\\nĐộ chính xác của mô hình: {accuracy:.2f}\")"
   ]
  },
  {
   "cell_type": "markdown",
   "id": "12f2dee0",
   "metadata": {},
   "source": [
    "## Báo cáo phân loại (precision, recall, f1-score)"
   ]
  },
  {
   "cell_type": "code",
   "execution_count": 76,
   "id": "16c0aceb",
   "metadata": {},
   "outputs": [
    {
     "name": "stdout",
     "output_type": "stream",
     "text": [
      "\n",
      "Báo cáo phân loại:\n",
      "              precision    recall  f1-score   support\n",
      "\n",
      "          No       0.42      0.45      0.43        11\n",
      "         Yes       0.67      0.63      0.65        19\n",
      "\n",
      "    accuracy                           0.57        30\n",
      "   macro avg       0.54      0.54      0.54        30\n",
      "weighted avg       0.57      0.57      0.57        30\n",
      "\n"
     ]
    }
   ],
   "source": [
    "print(\"\\nBáo cáo phân loại:\")\n",
    "print(classification_report(y_test, y_pred, target_names=['No', 'Yes']))"
   ]
  },
  {
   "cell_type": "markdown",
   "id": "c8cdedb8",
   "metadata": {},
   "source": [
    "## Ma trận nhầm lẫn"
   ]
  },
  {
   "cell_type": "code",
   "execution_count": 77,
   "id": "0cb0bf19",
   "metadata": {},
   "outputs": [
    {
     "data": {
      "image/png": "[encoded data removed]",
      "text/plain": [
       "<Figure size 600x400 with 2 Axes>"
      ]
     },
     "metadata": {},
     "output_type": "display_data"
    }
   ],
   "source": [
    "cm = confusion_matrix(y_test, y_pred)\n",
    "plt.figure(figsize=(6, 4))\n",
    "sns.heatmap(cm, annot=True, fmt='d', cmap='Blues', xticklabels=['No', 'Yes'], yticklabels=['No', 'Yes'])\n",
    "plt.title('Ma trận nhầm lẫn')\n",
    "plt.xlabel('Dự đoán')\n",
    "plt.ylabel('Thực tế')\n",
    "plt.show()"
   ]
  },
  {
   "cell_type": "markdown",
   "id": "a76a3a5d",
   "metadata": {},
   "source": [
    "## Đánh giá độ quan trọng của các biến đầu vào trong mô hình"
   ]
  },
  {
   "cell_type": "code",
   "execution_count": 79,
   "id": "2e1a2236",
   "metadata": {},
   "outputs": [
    {
     "data": {
      "text/plain": [
       "<Axes: >"
      ]
     },
     "execution_count": 79,
     "metadata": {},
     "output_type": "execute_result"
    },
    {
     "data": {
      "image/png": "[encoded data removed]",
      "text/plain": [
       "<Figure size 640x480 with 1 Axes>"
      ]
     },
     "metadata": {},
     "output_type": "display_data"
    }
   ],
   "source": [
    "feature_importance=pd.DataFrame(dt.feature_importances_,index=X.columns)\n",
    "feature_importance.plot(kind='bar')"
   ]
  },
  {
   "cell_type": "markdown",
   "id": "9c54a6a0",
   "metadata": {},
   "source": [
    "# Xem các tham số đã dùng trong mô hình"
   ]
  },
  {
   "cell_type": "code",
   "execution_count": 80,
   "id": "ee973ed9",
   "metadata": {},
   "outputs": [
    {
     "data": {
      "text/plain": [
       "{'ccp_alpha': 0.0,\n",
       " 'class_weight': None,\n",
       " 'criterion': 'entropy',\n",
       " 'max_depth': 5,\n",
       " 'max_features': 5,\n",
       " 'max_leaf_nodes': None,\n",
       " 'min_impurity_decrease': 0.0,\n",
       " 'min_samples_leaf': 10,\n",
       " 'min_samples_split': 7,\n",
       " 'min_weight_fraction_leaf': 0.024145363553254372,\n",
       " 'monotonic_cst': None,\n",
       " 'random_state': 42,\n",
       " 'splitter': 'best'}"
      ]
     },
     "execution_count": 80,
     "metadata": {},
     "output_type": "execute_result"
    }
   ],
   "source": [
    "dt.get_params()"
   ]
  }
 ],
 "metadata": {
  "kernelspec": {
   "display_name": "Python 3",
   "language": "python",
   "name": "python3"
  },
  "language_info": {
   "codemirror_mode": {
    "name": "ipython",
    "version": 3
   },
   "file_extension": ".py",
   "mimetype": "text/x-python",
   "name": "python",
   "nbconvert_exporter": "python",
   "pygments_lexer": "ipython3",
   "version": "3.13.3"
  }
 },
 "nbformat": 4,
 "nbformat_minor": 5
}
